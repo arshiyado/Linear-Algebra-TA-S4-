{
 "cells": [
  {
   "cell_type": "markdown",
   "metadata": {},
   "source": [
    "# 🧠 PCA (Principal Component Analysis)\n",
    "**Teaching Assistant: Arshiya Doosti**\n",
    "### Linear Algebra Explanation + Practical Exercises"
   ]
  },
  {
   "cell_type": "markdown",
   "metadata": {},
   "source": [
    "## Overview\n",
    "Principal Component Analysis (PCA) reduces the dimensionality of a dataset while retaining most of its variance. It does this by finding new axes (principal components) that are linear combinations of the original features.\n",
    "\n",
    "**Steps:**\n",
    "1. Standardize the data\n",
    "2. Compute the covariance matrix\n",
    "3. Find eigenvalues and eigenvectors\n",
    "4. Project the data onto principal components"
   ]
  },
  {
   "cell_type": "code",
   "execution_count": null,
   "metadata": {},
   "outputs": [],
   "source": [
    "# Run this cell to import required libraries\n",
    "import numpy as np\n",
    "import matplotlib.pyplot as plt\n",
    "from sklearn.datasets import load_iris\n",
    "from sklearn.preprocessing import StandardScaler"
   ]
  },
  {
   "cell_type": "markdown",
   "metadata": {},
   "source": [
    "## 🏁 Step 1: Load and Preprocess Data"
   ]
  },
  {
   "cell_type": "code",
   "execution_count": null,
   "metadata": {},
   "outputs": [],
   "source": [
    "# Load the Iris dataset and standardize the features\n",
    "# TODO: Fill in the missing parts\n",
    "\n",
    "# Load the data\n",
    "data = load_iris()\n",
    "X = data.data  # features\n",
    "y = data.target  # labels\n",
    "\n",
    "# Standardize the data\n",
    "scaler = StandardScaler()\n",
    "X_scaled = scaler.__________  # <<< FILL HERE >>>\n",
    "\n",
    "# Check the shape\n",
    "print(\"Shape of X_scaled:\", X_scaled.shape)"
   ]
  },
  {
   "cell_type": "markdown",
   "metadata": {},
   "source": [
    "## 🧮 Step 2: Compute the Covariance Matrix"
   ]
  },
  {
   "cell_type": "code",
   "execution_count": null,
   "metadata": {},
   "outputs": [],
   "source": [
    "# TODO: Compute the covariance matrix of the standardized data\n",
    "\n",
    "cov_matrix = __________  # <<< FILL HERE >>>\n",
    "print(\"Covariance matrix shape:\", cov_matrix.shape)"
   ]
  },
  {
   "cell_type": "markdown",
   "metadata": {},
   "source": [
    "## 🔍 Step 3: Perform Eigen Decomposition"
   ]
  },
  {
   "cell_type": "code",
   "execution_count": null,
   "metadata": {},
   "outputs": [],
   "source": [
    "# TODO: Find the eigenvalues and eigenvectors of the covariance matrix\n",
    "\n",
    "eigenvalues, eigenvectors = __________  # <<< FILL HERE >>>\n",
    "\n",
    "# Sort eigenvalues and eigenvectors\n",
    "idx = np.argsort(eigenvalues)[::-1]\n",
    "eigenvalues = eigenvalues[idx]\n",
    "eigenvectors = eigenvectors[:, idx]"
   ]
  },
  {
   "cell_type": "markdown",
   "metadata": {},
   "source": [
    "## 📐 Step 4: Project Data onto Top 2 Principal Components"
   ]
  },
  {
   "cell_type": "code",
   "execution_count": null,
   "metadata": {},
   "outputs": [],
   "source": [
    "# TODO: Project the data onto the top 2 principal components\n",
    "\n",
    "W = eigenvectors[:, :2]\n",
    "X_pca = __________  # <<< FILL HERE >>>\n",
    "\n",
    "print(\"Shape of X_pca:\", X_pca.shape)"
   ]
  },
  {
   "cell_type": "markdown",
   "metadata": {},
   "source": [
    "## 📊 Step 5: Visualize the Results"
   ]
  },
  {
   "cell_type": "code",
   "execution_count": null,
   "metadata": {},
   "outputs": [],
   "source": [
    "# TODO: Plot the 2D PCA results\n",
    "\n",
    "plt.figure(figsize=(8,6))\n",
    "for label in np.unique(y):\n",
    "    plt.scatter(X_pca[y == label, 0], X_pca[y == label, 1], label=data.target_names[label])\n",
    "\n",
    "plt.xlabel(\"Principal Component 1\")\n",
    "plt.ylabel(\"Principal Component 2\")\n",
    "plt.title(\"PCA of Iris Dataset\")\n",
    "plt.legend()\n",
    "plt.grid(True)\n",
    "plt.show()"
   ]
  },
  {
   "cell_type": "markdown",
   "metadata": {},
   "source": [
    "## 🧪 Exercises\n",
    "Complete the following tasks to deepen your understanding:"
   ]
  },
  {
   "cell_type": "markdown",
   "metadata": {},
   "source": [
    "### ✍️ Task 1: Use a Different Dataset\n",
    "**Replace Iris dataset with the Wine dataset** from `sklearn.datasets`. Perform all the PCA steps again."
   ]
  },
  {
   "cell_type": "code",
   "execution_count": null,
   "metadata": {},
   "outputs": [],
   "source": [
    "# TODO: Load the Wine dataset and perform PCA\n",
    "# HINT: from sklearn.datasets import load_wine\n",
    "\n",
    "# Your code here"
   ]
  },
  {
   "cell_type": "markdown",
   "metadata": {},
   "source": [
    "### ✍️ Task 2: Implement PCA using SVD\n",
    "Instead of eigen decomposition, implement PCA using Singular Value Decomposition (SVD)."
   ]
  },
  {
   "cell_type": "code",
   "execution_count": null,
   "metadata": {},
   "outputs": [],
   "source": [
    "# TODO: Perform PCA using SVD\n",
    "# HINT: Use np.linalg.svd\n",
    "\n",
    "# Your code here"
   ]
  },
  {
   "cell_type": "markdown",
   "metadata": {},
   "source": [
    "### ✍️ Task 3: Compare with sklearn PCA\n",
    "Use `sklearn.decomposition.PCA` to compare your implementation."
   ]
  },
  {
   "cell_type": "code",
   "execution_count": null,
   "metadata": {},
   "outputs": [],
   "source": [
    "# TODO: Compare with sklearn PCA\n",
    "from sklearn.decomposition import PCA\n",
    "\n",
    "# Your code here"
   ]
  }
 ],
 "metadata": {
  "kernelspec": {
   "display_name": "Python 3",
   "language": "python",
   "name": "python3"
  },
  "language_info": {
   "name": "python"
  }
 },
 "nbformat": 4,
 "nbformat_minor": 5
}
