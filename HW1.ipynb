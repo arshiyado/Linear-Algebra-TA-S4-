{
 "cells": [
  {
   "cell_type": "markdown",
   "id": "32707450",
   "metadata": {},
   "source": [
    "# Eigen values and Eigen vectors\n",
    "\n",
    "\n",
    "**Assistants:** Arshiya Doosti, Mohammad Mahdi Reisi\n",
    "\n",
    "\n"
   ]
  },
  {
   "cell_type": "markdown",
   "id": "0d99495f",
   "metadata": {},
   "source": [
    "## Introduction  \n",
    "Eigenvalues and eigenvectors are fundamental concepts in linear algebra. In this homework, you'll:  \n",
    "- Compute eigenvalues/eigenvectors manually.  \n",
    "- Verify results using Python/Numpy.  \n",
    "- Apply them to solve problems.  "
   ]
  },
  {
   "cell_type": "markdown",
   "id": "4360d5ea",
   "metadata": {},
   "source": [
    "## Part 1: Definitions\n",
    "\n",
    "**Question**: What is an eigenvector? What is an eigenvalue?\n",
    "\n",
    "\n"
   ]
  },
  {
   "cell_type": "markdown",
   "id": "ba6fed1e",
   "metadata": {},
   "source": [
    "\n",
    "\n",
    "Let \\( A \\) be a square matrix of size $ n \\times n$. A non-zero vector $\\mathbf{v} \\in \\mathbb{R}^n $ is called an **eigenvector** of $ A $ if there exists a scalar $ \\lambda \\in \\mathbb{R} $ such that:\n",
    "\n",
    "$$\n",
    "A\\mathbf{v} = \\lambda \\mathbf{v}\n",
    "$$\n",
    "\n",
    "The scalar $ \\lambda $ is called the **eigenvalue** corresponding to the eigenvector $ \\mathbf{v} $.\n",
    "\n",
    "In other words, applying the matrix $ A $ to the vector $ \\mathbf{v} $ only stretches or shrinks it (by a factor of $ \\lambda $), without changing its direction.\n"
   ]
  },
  {
   "cell_type": "markdown",
   "id": "3a26b793",
   "metadata": {},
   "source": [
    "So if we find value $\\lambda$ and $\\mathbf{v}$ we can solve this equation. \n",
    "0 is always an answer for this equation but we are interested in non zero values."
   ]
  },
  {
   "cell_type": "markdown",
   "id": "9756165d",
   "metadata": {},
   "source": [
    "\n",
    "If we write the equation as $(A - \\lambda I)\\mathbf{v} = 0$ we find out that vectors of interest are the non-zero vectors in the null space of the matrix $A - \\lambda I$"
   ]
  },
  {
   "cell_type": "markdown",
   "id": "7556e56f",
   "metadata": {},
   "source": [
    "$A - \\lambda I$ has non-zero vectors in its null space **if and only if** it is singular(its determinant is equal to zero). \n",
    "which means it's not full rank and it's not invertible."
   ]
  },
  {
   "cell_type": "markdown",
   "id": "c9c0f517",
   "metadata": {},
   "source": [
    "So we reduced our problem to **finding value for $\\lambda$ that makes matrix $A - \\lambda I$ singular**"
   ]
  },
  {
   "cell_type": "markdown",
   "id": "c93fd0dc",
   "metadata": {},
   "source": [
    "The set of distinct eigenvalues, denoted by $\\sigma(A)$, is called the **spectrum** of $A$.\n",
    "\n",
    "- $\\lambda \\in \\sigma(A) \\iff A - \\lambda I$ is singular $\\iff \\det(A - \\lambda I) = 0$. \n",
    "- $\\{ x \\neq 0 \\, | \\, x \\in N(A - \\lambda I) \\}$ is the set of all eigenvectors associated with $\\lambda$.\n",
    "\n",
    "From now on, $N(A - \\lambda I)$ is called an eigenspace for $A$. \n",
    "In other words the set of eigenvectors which satisfy the $A\\mathbf{v} = \\lambda \\mathbf{v}$ is called the eigenspace for eigenvalue of $\\lambda$."
   ]
  },
  {
   "cell_type": "markdown",
   "id": "29cc5cfa",
   "metadata": {},
   "source": [
    "## Part 2: Programming tasks"
   ]
  },
  {
   "cell_type": "markdown",
   "id": "7abe3ed2",
   "metadata": {},
   "source": [
    "### Question 1: Write a function that gets a $2 \\times 2$ matrix as input and returns the determinant of the matrix. "
   ]
  },
  {
   "cell_type": "code",
   "execution_count": null,
   "id": "794fc428",
   "metadata": {},
   "outputs": [],
   "source": [
    "def det2(matrix) -> float:\n",
    "    \"\"\"\n",
    "    Compute the determinant of a 2x2 matrix.\n",
    "\n",
    "    Parameters:\n",
    "    matrix (list of list of numbers): A 2x2 matrix in the form [[a, b], [c, d]]\n",
    "    \n",
    "    Returns:\n",
    "    number: Determinant of the matrix in variable detA \n",
    "    \"\"\"\n",
    "    detA = -1 \n",
    "    # write your solution here \n",
    "    return detA\n",
    "    "
   ]
  },
  {
   "cell_type": "code",
   "execution_count": 9,
   "id": "c38a038a",
   "metadata": {},
   "outputs": [
    {
     "name": "stdout",
     "output_type": "stream",
     "text": [
      "-1\n"
     ]
    }
   ],
   "source": [
    "# test your function with the following example\n",
    "A = [[7, 2], [3, 4]]\n",
    "print(det2(A)) \n"
   ]
  },
  {
   "cell_type": "markdown",
   "id": "fbfbd4d1",
   "metadata": {},
   "source": [
    "### Question 2: Write a function that gets a $3 \\times 3$ matrix as input and returns the determinant of the matrix. "
   ]
  },
  {
   "cell_type": "code",
   "execution_count": 12,
   "id": "2823eca2",
   "metadata": {},
   "outputs": [],
   "source": [
    "def det3(matrix) -> float:\n",
    "    \"\"\"\n",
    "    Compute the determinant of a 3x3 matrix.\n",
    "\n",
    "    Parameters:\n",
    "    matrix (list of list of numbers): A 3x3 matrix in the form [[a, b, c], [d, e, f], [g, h, i]]\n",
    "\n",
    "    Returns:\n",
    "    number: Determinant of the matrix in variable detA\n",
    "    \"\"\"\n",
    "    detA = -1\n",
    "    # write your solution here \n",
    "    return detA"
   ]
  },
  {
   "cell_type": "code",
   "execution_count": 13,
   "id": "082e4fdb",
   "metadata": {},
   "outputs": [
    {
     "name": "stdout",
     "output_type": "stream",
     "text": [
      "-1\n"
     ]
    }
   ],
   "source": [
    "A = [[1, 3, 2], [7, 9, 8], [4, 6, 5]]\n",
    "print(det3(A))"
   ]
  },
  {
   "cell_type": "markdown",
   "id": "5600e820",
   "metadata": {},
   "source": [
    "### Question 3: Write a function that gets a $2 \\times 2$ matrix as input and returns the spectrum($\\sigma(A)$). \n",
    "\n",
    "don't use numpy or any other library to find the eigenvalues, you should make an equsion base on the determinant of $A - \\lambda I$ and solve it to find the eigenvalues."
   ]
  },
  {
   "cell_type": "code",
   "execution_count": 14,
   "id": "9b2a6a96",
   "metadata": {},
   "outputs": [],
   "source": [
    "def sigma(A) -> set:\n",
    "    answers = set()\n",
    "    # write your solution here\n",
    "    return answers"
   ]
  },
  {
   "cell_type": "code",
   "execution_count": 15,
   "id": "6a95c3de",
   "metadata": {},
   "outputs": [
    {
     "name": "stdout",
     "output_type": "stream",
     "text": [
      "set()\n",
      "set()\n"
     ]
    }
   ],
   "source": [
    "# test your function with the following test cases\n",
    "print(sigma([[7, 2], [3, 4]])) \n",
    "print(sigma([[4, -4],[5, 2]]))"
   ]
  },
  {
   "cell_type": "markdown",
   "id": "944e70b8",
   "metadata": {},
   "source": [
    "### Queston 4: write a function that takes a $2 \\times 2 $ matrix $A$ and an eigenvalue $\\lambda$ and returns one eigenvector associated with $\\lambda$."
   ]
  },
  {
   "cell_type": "code",
   "execution_count": 18,
   "id": "c65ea3a2",
   "metadata": {},
   "outputs": [],
   "source": [
    "def one_eigenvector(A, eigenvalues: int) -> list:\n",
    "    \"\"\"\n",
    "    Parameters:\n",
    "    matrix (list of list of numbers): A 2x2 matrix in the form [[a, b], [h, i]]\n",
    "    eigenvalue: an integer\n",
    "    \"\"\"\n",
    "    eigenvector = []\n",
    "    # write your solution here\n",
    "    return eigenvector"
   ]
  },
  {
   "cell_type": "markdown",
   "id": "a82d1230",
   "metadata": {},
   "source": [
    "### Question 5: write a function that takes a matrix $A$ and eigenvalue $\\lambda$ and return basis for the eigenspace associated with $\\lambda$."
   ]
  },
  {
   "cell_type": "code",
   "execution_count": 19,
   "id": "a9efbc13",
   "metadata": {},
   "outputs": [],
   "source": [
    "def eigenvectors_space(A, eigenvalues: int) -> list:\n",
    "    eigenvectors = []\n",
    "    # write your solution here\n",
    "    return eigenvectors"
   ]
  },
  {
   "cell_type": "markdown",
   "id": "800228e1",
   "metadata": {},
   "source": [
    "### Question 6: write a function that takes differntional equations with two variables and prints the answer in any form.\n",
    "\n",
    "for example it takes the following matrix: \n",
    "$$\n",
    "\\begin{bmatrix}\n",
    "7 & -4 \\\\\n",
    "5 & -2\n",
    "\\end{bmatrix}\n",
    "$$\n",
    "\n",
    "that is associated with the following differential equations:\n",
    "$$\n",
    "\\frac{du_1}{dt} = 7u_1 - 4u_2 \\quad \\text{and} \\quad \\frac{du_2}{dt} = 5u_1 - 2u_2\n",
    "$$\n",
    "\n",
    "then your code should print the u1 and u2 in terms of t. "
   ]
  },
  {
   "cell_type": "code",
   "execution_count": 20,
   "id": "fb45e3e3",
   "metadata": {},
   "outputs": [],
   "source": [
    "def difCal (matrix) :\n",
    "    \"\"\"\n",
    "    Compute the answer of the differential equation.\n",
    "\n",
    "    Parameters:\n",
    "    matrix (list of list of numbers): A 2x2 matrix in the form [[a, b], [c, d]]\n",
    "    \n",
    "    Returns:\n",
    "    number: 2 vectors u1 and u2 \n",
    "    \"\"\"\n",
    "    \n",
    "    # write your solution here \n",
    "    "
   ]
  },
  {
   "cell_type": "code",
   "execution_count": null,
   "id": "bfa30502",
   "metadata": {},
   "outputs": [],
   "source": []
  }
 ],
 "metadata": {
  "kernelspec": {
   "display_name": "Python 3",
   "language": "python",
   "name": "python3"
  },
  "language_info": {
   "codemirror_mode": {
    "name": "ipython",
    "version": 3
   },
   "file_extension": ".py",
   "mimetype": "text/x-python",
   "name": "python",
   "nbconvert_exporter": "python",
   "pygments_lexer": "ipython3",
   "version": "3.11.4"
  }
 },
 "nbformat": 4,
 "nbformat_minor": 5
}
