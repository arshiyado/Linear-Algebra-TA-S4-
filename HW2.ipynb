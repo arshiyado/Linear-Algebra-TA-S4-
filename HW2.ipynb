{
 "cells": [
  {
   "cell_type": "markdown",
   "id": "0d8b67a8",
   "metadata": {},
   "source": [
    "# Applications of Linear Algebra \n",
    "\n",
    "\n",
    "**Assistants:** Arshiya Doosti\n"
   ]
  },
  {
   "cell_type": "markdown",
   "id": "3148640a",
   "metadata": {},
   "source": [
    "## Part 1: Gram-Schmidt Process"
   ]
  },
  {
   "cell_type": "markdown",
   "id": "ca661ba4",
   "metadata": {},
   "source": [
    "### Brief summary \n",
    "The Gram-Schmidt process is an algorithm for converting a set of linearly independent vectors into an orthonormal set of vectors that spans the same subspace.\n",
    "Given a set of linearly independent vectors ${v_1, v_2, ..., v_n}$ the Gram-Schmidt process generates an orthonormal basis ${u_1, u_2, ..., u_n}$ where : \n",
    "- Each $u_i$  is orthogonal to the previous vectors.\n",
    "- Each $u_i$ has unit norm ($|u_i| = 1$). "
   ]
  },
  {
   "cell_type": "markdown",
   "id": "8488d22c",
   "metadata": {},
   "source": [
    "### The Algorithm \n",
    "\n",
    "\\begin{align*}\n",
    "u_1 &= \\frac{v_1}{\\|v_1\\|} \\\\\n",
    "u_2 &= \\frac{v_2 - \\text{proj}_{u_1}(v_2)}{\\|v_2 - \\text{proj}_{u_1}(v_2)\\|} \\\\\n",
    "u_3 &= \\frac{v_3 - \\text{proj}_{u_1}(v_3) - \\text{proj}_{u_2}(v_3)}{\\|v_3 - \\text{proj}_{u_1}(v_3) - \\text{proj}_{u_2}(v_3)\\|} \\\\\n",
    "&\\vdots \\\\\n",
    "u_k &= \\frac{v_k - \\sum_{j=1}^{k-1} \\text{proj}_{u_j}(v_k)}{\\left\\| v_k - \\sum_{j=1}^{k-1} \\text{proj}_{u_j}(v_k) \\right\\|}\n",
    "\\end{align*}\n",
    "\n",
    "where the projection of $v$ onto $u$ is defined as:\n",
    "\n",
    "$$\n",
    "\\text{proj}_u(v) = \\frac{v \\cdot u}{u \\cdot u} u\n",
    "$$\n",
    "\n",
    "The resulting vectors $u_1, \\dots, u_n$ are orthonormal and span the same subspace as the original vectors $v_1, \\dots, v_n$."
   ]
  },
  {
   "cell_type": "markdown",
   "id": "2ebfd179",
   "metadata": {},
   "source": [
    "### Task1: using numpy implement this process for a given set of vectors \n"
   ]
  },
  {
   "cell_type": "code",
   "execution_count": 2,
   "id": "16679117",
   "metadata": {},
   "outputs": [],
   "source": [
    "import numpy as np\n",
    "\n",
    "def gram_schmidt(vectors):\n",
    "    \"\"\"\n",
    "    Apply the Gram-Schmidt process to a list of linearly independent vectors.\n",
    "\n",
    "    Parameters:\n",
    "    vectors (ndarray): A 2D numpy array where each row is a vector.\n",
    "\n",
    "    Returns:\n",
    "    ndarray: A 2D numpy array of the same shape with orthonormal vectors as rows.\n",
    "    \"\"\"\n",
    "    orthonormal_basis = []\n",
    "    \n",
    "    # write your solution here \n",
    "    \n",
    "    return np.array(orthonormal_basis)"
   ]
  },
  {
   "cell_type": "markdown",
   "id": "260ca54f",
   "metadata": {},
   "source": [
    "## Part 2: SVD "
   ]
  },
  {
   "cell_type": "markdown",
   "id": "6fafbbdd",
   "metadata": {},
   "source": [
    "**Singular Value Decomposition (SVD)** is a factorization of any real $ m \\times n$ matrix $ A $ into three matrices: \n",
    "$$\n",
    "A = U \\Sigma V^T\n",
    "$$\n",
    "where:\n",
    "\n",
    "\n",
    "- $U$ is an $ m \\times m $ orthogonal matrix, whose columns are called the **left singular vectors ** of $ A $.\n",
    "\n",
    "- $\\Sigma$ is an $ m \\times n $ diagonal matrix with non-negative real numbers on the diagonal, called the **singular values** of $ A $, arranged in descending order:\n",
    "\\begin{align*}\n",
    "\\Sigma = \\begin{bmatrix}\n",
    "\\sigma_1 & 0 & \\cdots & 0 \\\\\n",
    "0 & \\sigma_2 & \\cdots & 0 \\\\\n",
    "\\vdots & \\vdots & \\ddots & \\vdots \\\\\n",
    "0 & 0 & \\cdots & \\sigma_r \\\\\n",
    "\\end{bmatrix}, \\quad \\sigma_1 \\geq \\sigma_2 \\geq \\cdots \\geq \\sigma_r \\geq 0\n",
    "\\end{align*}\n",
    "where  r = $rank$(A) .\n",
    "- $ V $ is an $ n \\times n $ orthogonal matrix, whose columns are called the *right singular vectors* of $ A $.\n",
    "\n",
    "\n",
    "**Steps**\n",
    "\n",
    "1. Compute the eigenvalues and eigenvectors of $ A^T A$ . The eigenvectors form the columns of \\( V \\), and the square roots of the eigenvalues are the singular values $ \\sigma_i$.\n",
    "\n",
    "2. Compute the eigenvectors of $ A A^T $. These form the columns of $U$.\n",
    "\n",
    "3. Assemble $\\Sigma$ using the singular values on the diagonal.\n",
    "\n",
    "Thus, SVD provides a way to decompose any matrix—even non-square ones—into orthogonal bases and scaling factors.\n"
   ]
  },
  {
   "cell_type": "markdown",
   "id": "59c068b7",
   "metadata": {},
   "source": [
    "**How Singular Value Decomposition (SVD) is Calculated**\n",
    "\n",
    "Given a real $m \\times n$ matrix $A$, the SVD decomposes it into:\n",
    "\n",
    "\\begin{align*}\n",
    "A = U \\Sigma V^T\n",
    "\\end{align*}\n",
    "\n",
    "where $U$, $\\Sigma$, and $V$ have the properties described earlier.\n",
    "\n",
    "\n",
    "\n",
    "\n",
    "\n",
    "\n",
    "**Calculation Steps:**\n",
    "\n",
    "1. **Form the matrices $A^T A$ and $A A^T$:**\n",
    "\\begin{align*}\n",
    "A^T A &\\quad \\text{is an} \\quad n \\times n \\quad \\text{symmetric matrix} \\\\\n",
    "A A^T &\\quad \\text{is an} \\quad m \\times m \\quad \\text{symmetric matrix}\n",
    "\\end{align*}\n",
    "\n",
    "2. **Find eigenvalues and eigenvectors of $A^T A$:**\n",
    "\n",
    "- Solve:\n",
    "\\begin{align*}\n",
    "A^T A \\mathbf{v}_i = \\lambda_i \\mathbf{v}_i\n",
    "\\end{align*}\n",
    "where $\\mathbf{v}_i$ are eigenvectors, and $\\lambda_i \\geq 0$ are eigenvalues.\n",
    "\n",
    "- The eigenvectors $\\mathbf{v}_i$ form the columns of $V$.\n",
    "  \n",
    "- The singular values $\\sigma_i$ are:\n",
    "\\begin{align*}\n",
    "\\sigma_i = \\sqrt{\\lambda_i}\n",
    "\\end{align*}\n",
    "arranged in descending order $\\sigma_1 \\geq \\sigma_2 \\geq \\cdots \\geq 0$.\n",
    "\n",
    "3. **Find eigenvectors of $A A^T$:**\n",
    "\n",
    "- Solve:\n",
    "\\begin{align*}\n",
    "A A^T \\mathbf{u}_i = \\lambda_i \\mathbf{u}_i\n",
    "\\end{align*}\n",
    "\n",
    "- The eigenvectors $\\mathbf{u}_i$ form the columns of $U$.\n",
    "\n",
    "4. **Form the diagonal matrix $\\Sigma$:**\n",
    "\n",
    "\\begin{align*}\n",
    "\\Sigma = \\begin{bmatrix}\n",
    "\\sigma_1 & 0 & \\cdots & 0 \\\\\n",
    "0 & \\sigma_2 & \\cdots & 0 \\\\\n",
    "\\vdots & \\vdots & \\ddots & \\vdots \\\\\n",
    "0 & 0 & \\cdots & \\sigma_r \\\\\n",
    "\\end{bmatrix}\n",
    "\\end{align*}\n",
    "\n",
    "where $r = \\text{rank}(A)$.\n",
    "\n",
    "5. **Verify:**\n",
    "\n",
    "\\begin{align*}\n",
    "A = U \\Sigma V^T\n",
    "\\end{align*}\n",
    "\n",
    "---\n",
    "\n",
    "**Summary:** \n",
    "\n",
    "- Compute eigenvalues/eigenvectors of $A^T A$ to get $V$ and singular values.\n",
    "- Compute eigenvectors of $A A^T$ to get $U$.\n",
    "- Singular values are square roots of eigenvalues of $A^T A$.\n"
   ]
  },
  {
   "cell_type": "markdown",
   "id": "978cf076",
   "metadata": {},
   "source": [
    "### Task 2: Given a 3 by 3 matrix compute the SVD for it. \n",
    "You are now allowd to use numpy svd. \n",
    "but you can use other numpy features like *np.linalg.eigh* or others"
   ]
  },
  {
   "cell_type": "code",
   "execution_count": 3,
   "id": "14758d71",
   "metadata": {},
   "outputs": [],
   "source": [
    "import numpy as np\n",
    "\n",
    "def compute_svd_manual(A):\n",
    "    \"\"\"\n",
    "    Compute the SVD of a 3x3 matrix A without using np.linalg.svd.\n",
    "    \n",
    "    Returns U, Sigma, V_T such that A = U Sigma V_T\n",
    "    \"\"\"\n",
    "    \n",
    "    \n",
    "    #return U, Sigma, V_T\n"
   ]
  },
  {
   "cell_type": "code",
   "execution_count": null,
   "id": "2ce6a842",
   "metadata": {},
   "outputs": [],
   "source": []
  }
 ],
 "metadata": {
  "kernelspec": {
   "display_name": "Python 3",
   "language": "python",
   "name": "python3"
  },
  "language_info": {
   "codemirror_mode": {
    "name": "ipython",
    "version": 3
   },
   "file_extension": ".py",
   "mimetype": "text/x-python",
   "name": "python",
   "nbconvert_exporter": "python",
   "pygments_lexer": "ipython3",
   "version": "3.11.4"
  }
 },
 "nbformat": 4,
 "nbformat_minor": 5
}
