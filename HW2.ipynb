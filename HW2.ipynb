{
 "cells": [
  {
   "cell_type": "markdown",
   "id": "0d8b67a8",
   "metadata": {},
   "source": [
    "# Applications of Linear Algebra \n",
    "\n",
    "\n",
    "**Assistants:** Arshiya Doosti\n"
   ]
  },
  {
   "cell_type": "markdown",
   "id": "3148640a",
   "metadata": {},
   "source": [
    "## Part 1: Gram-Schmidt Process"
   ]
  },
  {
   "cell_type": "markdown",
   "id": "ca661ba4",
   "metadata": {},
   "source": [
    "### Brief summary \n",
    "The Gram-Schmidt process is an algorithm for converting a set of linearly independent vectors into an orthonormal set of vectors that spans the same subspace.\n",
    "Given a set of linearly independent vectors ${v_1, v_2, ..., v_n}$ the Gram-Schmidt process generates an orthonormal basis ${u_1, u_2, ..., u_n}$ where : \n",
    "- Each $u_i$  is orthogonal to the previous vectors.\n",
    "- Each $u_i$ has unit norm ($|u_i| = 1$). "
   ]
  },
  {
   "cell_type": "markdown",
   "id": "8488d22c",
   "metadata": {},
   "source": [
    "### The Algorithm \n",
    "\n",
    "\\begin{align*}\n",
    "u_1 &= \\frac{v_1}{\\|v_1\\|} \\\\\n",
    "u_2 &= \\frac{v_2 - \\text{proj}_{u_1}(v_2)}{\\|v_2 - \\text{proj}_{u_1}(v_2)\\|} \\\\\n",
    "u_3 &= \\frac{v_3 - \\text{proj}_{u_1}(v_3) - \\text{proj}_{u_2}(v_3)}{\\|v_3 - \\text{proj}_{u_1}(v_3) - \\text{proj}_{u_2}(v_3)\\|} \\\\\n",
    "&\\vdots \\\\\n",
    "u_k &= \\frac{v_k - \\sum_{j=1}^{k-1} \\text{proj}_{u_j}(v_k)}{\\left\\| v_k - \\sum_{j=1}^{k-1} \\text{proj}_{u_j}(v_k) \\right\\|}\n",
    "\\end{align*}\n",
    "\n",
    "where the projection of $v$ onto $u$ is defined as:\n",
    "\n",
    "$$\n",
    "\\text{proj}_u(v) = \\frac{v \\cdot u}{u \\cdot u} u\n",
    "$$\n",
    "\n",
    "The resulting vectors $u_1, \\dots, u_n$ are orthonormal and span the same subspace as the original vectors $v_1, \\dots, v_n$."
   ]
  },
  {
   "cell_type": "markdown",
   "id": "2ebfd179",
   "metadata": {},
   "source": [
    "### using numpy implement this process for a given set of vectors \n"
   ]
  },
  {
   "cell_type": "code",
   "execution_count": 2,
   "id": "16679117",
   "metadata": {},
   "outputs": [],
   "source": [
    "import numpy as np\n",
    "\n",
    "def gram_schmidt(vectors):\n",
    "    \"\"\"\n",
    "    Apply the Gram-Schmidt process to a list of linearly independent vectors.\n",
    "\n",
    "    Parameters:\n",
    "    vectors (ndarray): A 2D numpy array where each row is a vector.\n",
    "\n",
    "    Returns:\n",
    "    ndarray: A 2D numpy array of the same shape with orthonormal vectors as rows.\n",
    "    \"\"\"\n",
    "    orthonormal_basis = []\n",
    "    \n",
    "    # write your solution here \n",
    "    \n",
    "    return np.array(orthonormal_basis)"
   ]
  },
  {
   "cell_type": "code",
   "execution_count": null,
   "id": "260ca54f",
   "metadata": {},
   "outputs": [],
   "source": []
  }
 ],
 "metadata": {
  "kernelspec": {
   "display_name": "Python 3",
   "language": "python",
   "name": "python3"
  },
  "language_info": {
   "codemirror_mode": {
    "name": "ipython",
    "version": 3
   },
   "file_extension": ".py",
   "mimetype": "text/x-python",
   "name": "python",
   "nbconvert_exporter": "python",
   "pygments_lexer": "ipython3",
   "version": "3.11.4"
  }
 },
 "nbformat": 4,
 "nbformat_minor": 5
}
